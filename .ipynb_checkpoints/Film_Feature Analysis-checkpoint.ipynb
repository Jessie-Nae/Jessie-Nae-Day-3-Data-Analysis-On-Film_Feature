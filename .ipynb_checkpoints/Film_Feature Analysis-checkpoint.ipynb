{
 "cells": [
  {
   "cell_type": "markdown",
   "id": "8156a9a9",
   "metadata": {},
   "source": [
    "# Import the necessary libraries"
   ]
  },
  {
   "cell_type": "code",
   "execution_count": 1,
   "id": "273a5776",
   "metadata": {},
   "outputs": [
    {
     "data": {
      "text/html": [
       "<div>\n",
       "<style scoped>\n",
       "    .dataframe tbody tr th:only-of-type {\n",
       "        vertical-align: middle;\n",
       "    }\n",
       "\n",
       "    .dataframe tbody tr th {\n",
       "        vertical-align: top;\n",
       "    }\n",
       "\n",
       "    .dataframe thead th {\n",
       "        text-align: right;\n",
       "    }\n",
       "</style>\n",
       "<table border=\"1\" class=\"dataframe\">\n",
       "  <thead>\n",
       "    <tr style=\"text-align: right;\">\n",
       "      <th></th>\n",
       "      <th>Title</th>\n",
       "      <th>Genre</th>\n",
       "      <th>Premiere</th>\n",
       "      <th>Runtime</th>\n",
       "      <th>Language</th>\n",
       "    </tr>\n",
       "  </thead>\n",
       "  <tbody>\n",
       "    <tr>\n",
       "      <th>0</th>\n",
       "      <td>Four to Dinner</td>\n",
       "      <td>Romantic comedy</td>\n",
       "      <td>January 5, 2022</td>\n",
       "      <td>1 h 30 min</td>\n",
       "      <td>Italian</td>\n",
       "    </tr>\n",
       "    <tr>\n",
       "      <th>1</th>\n",
       "      <td>The Wasteland</td>\n",
       "      <td>Horror</td>\n",
       "      <td>January 6, 2022</td>\n",
       "      <td>1 h 32 min</td>\n",
       "      <td>Spanish</td>\n",
       "    </tr>\n",
       "    <tr>\n",
       "      <th>2</th>\n",
       "      <td>How I Fell in Love with a Gangster</td>\n",
       "      <td>Drama</td>\n",
       "      <td>January 12, 2022</td>\n",
       "      <td>2 h 59 min</td>\n",
       "      <td>Polish</td>\n",
       "    </tr>\n",
       "    <tr>\n",
       "      <th>3</th>\n",
       "      <td>Brazen</td>\n",
       "      <td>Romantic thriller</td>\n",
       "      <td>January 13, 2022</td>\n",
       "      <td>1 h 36 min</td>\n",
       "      <td>English</td>\n",
       "    </tr>\n",
       "    <tr>\n",
       "      <th>4</th>\n",
       "      <td>Photocopier</td>\n",
       "      <td>Coming-of-age drama</td>\n",
       "      <td>January 13, 2022</td>\n",
       "      <td>2 h 10 min</td>\n",
       "      <td>Indonesian</td>\n",
       "    </tr>\n",
       "  </tbody>\n",
       "</table>\n",
       "</div>"
      ],
      "text/plain": [
       "                                Title                Genre          Premiere  \\\n",
       "0                      Four to Dinner      Romantic comedy   January 5, 2022   \n",
       "1                       The Wasteland               Horror   January 6, 2022   \n",
       "2  How I Fell in Love with a Gangster                Drama  January 12, 2022   \n",
       "3                              Brazen    Romantic thriller  January 13, 2022   \n",
       "4                         Photocopier  Coming-of-age drama  January 13, 2022   \n",
       "\n",
       "      Runtime    Language  \n",
       "0  1 h 30 min     Italian  \n",
       "1  1 h 32 min     Spanish  \n",
       "2  2 h 59 min      Polish  \n",
       "3  1 h 36 min     English  \n",
       "4  2 h 10 min  Indonesian  "
      ]
     },
     "execution_count": 1,
     "metadata": {},
     "output_type": "execute_result"
    }
   ],
   "source": [
    "#Importing the necessary librabries\n",
    "import numpy as np\n",
    "import pandas as pd\n",
    "import matplotlib.pyplot as plt\n",
    "import warnings\n",
    "warnings.filterwarnings(\"ignore\")\n",
    "\n",
    "#Load the dataset\n",
    "data = pd.read_csv('Feature films.csv')\n",
    "data.head()"
   ]
  },
  {
   "cell_type": "code",
   "execution_count": 2,
   "id": "75a57862",
   "metadata": {},
   "outputs": [
    {
     "data": {
      "text/plain": [
       "Title       0\n",
       "Genre       0\n",
       "Premiere    0\n",
       "Runtime     0\n",
       "Language    0\n",
       "dtype: int64"
      ]
     },
     "execution_count": 2,
     "metadata": {},
     "output_type": "execute_result"
    }
   ],
   "source": [
    "data.isnull().sum()"
   ]
  },
  {
   "cell_type": "code",
   "execution_count": 3,
   "id": "864812de",
   "metadata": {},
   "outputs": [
    {
     "data": {
      "text/html": [
       "<div>\n",
       "<style scoped>\n",
       "    .dataframe tbody tr th:only-of-type {\n",
       "        vertical-align: middle;\n",
       "    }\n",
       "\n",
       "    .dataframe tbody tr th {\n",
       "        vertical-align: top;\n",
       "    }\n",
       "\n",
       "    .dataframe thead th {\n",
       "        text-align: right;\n",
       "    }\n",
       "</style>\n",
       "<table border=\"1\" class=\"dataframe\">\n",
       "  <thead>\n",
       "    <tr style=\"text-align: right;\">\n",
       "      <th></th>\n",
       "      <th>Title</th>\n",
       "      <th>Genre</th>\n",
       "      <th>Premiere</th>\n",
       "      <th>Runtime</th>\n",
       "      <th>Language</th>\n",
       "    </tr>\n",
       "  </thead>\n",
       "  <tbody>\n",
       "  </tbody>\n",
       "</table>\n",
       "</div>"
      ],
      "text/plain": [
       "Empty DataFrame\n",
       "Columns: [Title, Genre, Premiere, Runtime, Language]\n",
       "Index: []"
      ]
     },
     "execution_count": 3,
     "metadata": {},
     "output_type": "execute_result"
    }
   ],
   "source": [
    "#Checking for duplicates\n",
    "data[data.duplicated()]\n",
    "\n",
    "#there is none"
   ]
  },
  {
   "cell_type": "code",
   "execution_count": 4,
   "id": "c6b688a1",
   "metadata": {},
   "outputs": [
    {
     "name": "stdout",
     "output_type": "stream",
     "text": [
      "<class 'pandas.core.frame.DataFrame'>\n",
      "RangeIndex: 172 entries, 0 to 171\n",
      "Data columns (total 5 columns):\n",
      " #   Column    Non-Null Count  Dtype \n",
      "---  ------    --------------  ----- \n",
      " 0   Title     172 non-null    object\n",
      " 1   Genre     172 non-null    object\n",
      " 2   Premiere  172 non-null    object\n",
      " 3   Runtime   172 non-null    object\n",
      " 4   Language  172 non-null    object\n",
      "dtypes: object(5)\n",
      "memory usage: 6.8+ KB\n"
     ]
    }
   ],
   "source": [
    "data.info()"
   ]
  },
  {
   "cell_type": "code",
   "execution_count": 5,
   "id": "a4da5912",
   "metadata": {},
   "outputs": [],
   "source": [
    "data['Premiere'] = pd.to_datetime(data['Premiere'])"
   ]
  },
  {
   "cell_type": "code",
   "execution_count": 6,
   "id": "09862568",
   "metadata": {},
   "outputs": [
    {
     "data": {
      "text/html": [
       "<div>\n",
       "<style scoped>\n",
       "    .dataframe tbody tr th:only-of-type {\n",
       "        vertical-align: middle;\n",
       "    }\n",
       "\n",
       "    .dataframe tbody tr th {\n",
       "        vertical-align: top;\n",
       "    }\n",
       "\n",
       "    .dataframe thead th {\n",
       "        text-align: right;\n",
       "    }\n",
       "</style>\n",
       "<table border=\"1\" class=\"dataframe\">\n",
       "  <thead>\n",
       "    <tr style=\"text-align: right;\">\n",
       "      <th></th>\n",
       "      <th>Title</th>\n",
       "      <th>Genre</th>\n",
       "      <th>Premiere</th>\n",
       "      <th>Runtime</th>\n",
       "      <th>Language</th>\n",
       "    </tr>\n",
       "  </thead>\n",
       "  <tbody>\n",
       "    <tr>\n",
       "      <th>0</th>\n",
       "      <td>Four to Dinner</td>\n",
       "      <td>Romantic comedy</td>\n",
       "      <td>2022-01-05</td>\n",
       "      <td>1 h 30 min</td>\n",
       "      <td>Italian</td>\n",
       "    </tr>\n",
       "    <tr>\n",
       "      <th>1</th>\n",
       "      <td>The Wasteland</td>\n",
       "      <td>Horror</td>\n",
       "      <td>2022-01-06</td>\n",
       "      <td>1 h 32 min</td>\n",
       "      <td>Spanish</td>\n",
       "    </tr>\n",
       "    <tr>\n",
       "      <th>2</th>\n",
       "      <td>How I Fell in Love with a Gangster</td>\n",
       "      <td>Drama</td>\n",
       "      <td>2022-01-12</td>\n",
       "      <td>2 h 59 min</td>\n",
       "      <td>Polish</td>\n",
       "    </tr>\n",
       "    <tr>\n",
       "      <th>3</th>\n",
       "      <td>Brazen</td>\n",
       "      <td>Romantic thriller</td>\n",
       "      <td>2022-01-13</td>\n",
       "      <td>1 h 36 min</td>\n",
       "      <td>English</td>\n",
       "    </tr>\n",
       "    <tr>\n",
       "      <th>4</th>\n",
       "      <td>Photocopier</td>\n",
       "      <td>Coming-of-age drama</td>\n",
       "      <td>2022-01-13</td>\n",
       "      <td>2 h 10 min</td>\n",
       "      <td>Indonesian</td>\n",
       "    </tr>\n",
       "  </tbody>\n",
       "</table>\n",
       "</div>"
      ],
      "text/plain": [
       "                                Title                Genre   Premiere  \\\n",
       "0                      Four to Dinner      Romantic comedy 2022-01-05   \n",
       "1                       The Wasteland               Horror 2022-01-06   \n",
       "2  How I Fell in Love with a Gangster                Drama 2022-01-12   \n",
       "3                              Brazen    Romantic thriller 2022-01-13   \n",
       "4                         Photocopier  Coming-of-age drama 2022-01-13   \n",
       "\n",
       "      Runtime    Language  \n",
       "0  1 h 30 min     Italian  \n",
       "1  1 h 32 min     Spanish  \n",
       "2  2 h 59 min      Polish  \n",
       "3  1 h 36 min     English  \n",
       "4  2 h 10 min  Indonesian  "
      ]
     },
     "execution_count": 6,
     "metadata": {},
     "output_type": "execute_result"
    }
   ],
   "source": [
    "data.head()"
   ]
  },
  {
   "cell_type": "code",
   "execution_count": 7,
   "id": "23d20328",
   "metadata": {},
   "outputs": [],
   "source": [
    "#creating a function to get runtime in mins\n",
    "def runtime(mins):\n",
    "    total_mins = 0\n",
    "    split = mins.split(' ')\n",
    "    \n",
    "    for i in range(0, len(split),2):\n",
    "        if split[i + 1]=='h':\n",
    "            total_mins +=int(split[i])*60\n",
    "        elif split[i + 1]=='min':\n",
    "            total_mins += int(split[i])\n",
    "    return total_mins\n",
    "\n",
    "\n",
    "data['Runtime(mins)'] = data['Runtime'].apply(runtime)"
   ]
  },
  {
   "cell_type": "code",
   "execution_count": 8,
   "id": "1d577f96",
   "metadata": {},
   "outputs": [
    {
     "data": {
      "text/html": [
       "<div>\n",
       "<style scoped>\n",
       "    .dataframe tbody tr th:only-of-type {\n",
       "        vertical-align: middle;\n",
       "    }\n",
       "\n",
       "    .dataframe tbody tr th {\n",
       "        vertical-align: top;\n",
       "    }\n",
       "\n",
       "    .dataframe thead th {\n",
       "        text-align: right;\n",
       "    }\n",
       "</style>\n",
       "<table border=\"1\" class=\"dataframe\">\n",
       "  <thead>\n",
       "    <tr style=\"text-align: right;\">\n",
       "      <th></th>\n",
       "      <th>Title</th>\n",
       "      <th>Genre</th>\n",
       "      <th>Premiere</th>\n",
       "      <th>Runtime</th>\n",
       "      <th>Language</th>\n",
       "      <th>Runtime(mins)</th>\n",
       "    </tr>\n",
       "  </thead>\n",
       "  <tbody>\n",
       "    <tr>\n",
       "      <th>0</th>\n",
       "      <td>Four to Dinner</td>\n",
       "      <td>Romantic comedy</td>\n",
       "      <td>2022-01-05</td>\n",
       "      <td>1 h 30 min</td>\n",
       "      <td>Italian</td>\n",
       "      <td>90</td>\n",
       "    </tr>\n",
       "    <tr>\n",
       "      <th>1</th>\n",
       "      <td>The Wasteland</td>\n",
       "      <td>Horror</td>\n",
       "      <td>2022-01-06</td>\n",
       "      <td>1 h 32 min</td>\n",
       "      <td>Spanish</td>\n",
       "      <td>92</td>\n",
       "    </tr>\n",
       "    <tr>\n",
       "      <th>2</th>\n",
       "      <td>How I Fell in Love with a Gangster</td>\n",
       "      <td>Drama</td>\n",
       "      <td>2022-01-12</td>\n",
       "      <td>2 h 59 min</td>\n",
       "      <td>Polish</td>\n",
       "      <td>179</td>\n",
       "    </tr>\n",
       "    <tr>\n",
       "      <th>3</th>\n",
       "      <td>Brazen</td>\n",
       "      <td>Romantic thriller</td>\n",
       "      <td>2022-01-13</td>\n",
       "      <td>1 h 36 min</td>\n",
       "      <td>English</td>\n",
       "      <td>96</td>\n",
       "    </tr>\n",
       "    <tr>\n",
       "      <th>4</th>\n",
       "      <td>Photocopier</td>\n",
       "      <td>Coming-of-age drama</td>\n",
       "      <td>2022-01-13</td>\n",
       "      <td>2 h 10 min</td>\n",
       "      <td>Indonesian</td>\n",
       "      <td>130</td>\n",
       "    </tr>\n",
       "  </tbody>\n",
       "</table>\n",
       "</div>"
      ],
      "text/plain": [
       "                                Title                Genre   Premiere  \\\n",
       "0                      Four to Dinner      Romantic comedy 2022-01-05   \n",
       "1                       The Wasteland               Horror 2022-01-06   \n",
       "2  How I Fell in Love with a Gangster                Drama 2022-01-12   \n",
       "3                              Brazen    Romantic thriller 2022-01-13   \n",
       "4                         Photocopier  Coming-of-age drama 2022-01-13   \n",
       "\n",
       "      Runtime    Language  Runtime(mins)  \n",
       "0  1 h 30 min     Italian             90  \n",
       "1  1 h 32 min     Spanish             92  \n",
       "2  2 h 59 min      Polish            179  \n",
       "3  1 h 36 min     English             96  \n",
       "4  2 h 10 min  Indonesian            130  "
      ]
     },
     "execution_count": 8,
     "metadata": {},
     "output_type": "execute_result"
    }
   ],
   "source": [
    "data.head()"
   ]
  },
  {
   "cell_type": "code",
   "execution_count": 9,
   "id": "249a9d45",
   "metadata": {},
   "outputs": [
    {
     "data": {
      "text/plain": [
       "(172, 6)"
      ]
     },
     "execution_count": 9,
     "metadata": {},
     "output_type": "execute_result"
    }
   ],
   "source": [
    "data.shape"
   ]
  },
  {
   "cell_type": "code",
   "execution_count": 10,
   "id": "78e41863",
   "metadata": {},
   "outputs": [
    {
     "data": {
      "text/plain": [
       "172"
      ]
     },
     "execution_count": 10,
     "metadata": {},
     "output_type": "execute_result"
    }
   ],
   "source": [
    "len(data.index.unique())\n",
    "#There are 172 movies that premiered between January 2022 to December 2022"
   ]
  },
  {
   "cell_type": "code",
   "execution_count": 11,
   "id": "ec2eceec",
   "metadata": {},
   "outputs": [
    {
     "data": {
      "text/plain": [
       "(57,)"
      ]
     },
     "execution_count": 11,
     "metadata": {},
     "output_type": "execute_result"
    }
   ],
   "source": [
    "data['Genre'].unique().shape\n",
    "#There are 57 unique Genries of movies that premiered"
   ]
  },
  {
   "cell_type": "code",
   "execution_count": 12,
   "id": "1f248f7d",
   "metadata": {},
   "outputs": [
    {
     "data": {
      "text/plain": [
       "19"
      ]
     },
     "execution_count": 12,
     "metadata": {},
     "output_type": "execute_result"
    }
   ],
   "source": [
    "len(data['Language'].unique())\n",
    "#There are 19 distinct spoken languages on the movies that premiered in the year 2022 "
   ]
  },
  {
   "cell_type": "code",
   "execution_count": 37,
   "id": "021ac243",
   "metadata": {},
   "outputs": [
    {
     "data": {
      "text/plain": [
       "108"
      ]
     },
     "execution_count": 37,
     "metadata": {},
     "output_type": "execute_result"
    }
   ],
   "source": [
    "avg = int(data['Runtime(mins)'].mean())\n",
    "avg"
   ]
  },
  {
   "cell_type": "code",
   "execution_count": 13,
   "id": "39d029fe",
   "metadata": {},
   "outputs": [
    {
     "name": "stdout",
     "output_type": "stream",
     "text": [
      "The average runtime = 1hr : 48mins\n"
     ]
    }
   ],
   "source": [
    "avg = int(data['Runtime(mins)'].mean())\n",
    "hr = int((avg -(avg%60))/60)\n",
    "mins = avg%60\n",
    "print(f\"The average runtime = {hr}hr : {mins}mins\") "
   ]
  },
  {
   "cell_type": "code",
   "execution_count": 14,
   "id": "8e95f5d7",
   "metadata": {},
   "outputs": [
    {
     "data": {
      "text/plain": [
       "English       75\n",
       "Spanish       19\n",
       "Turkish       11\n",
       "Polish         9\n",
       "Hindi          9\n",
       "Italian        7\n",
       "German         7\n",
       "French         7\n",
       "Portuguese     5\n",
       "Korean         5\n",
       "Norwegian      4\n",
       "Japanese       3\n",
       "Danish         2\n",
       "Dutch          2\n",
       "Indonesian     2\n",
       "Filipino       2\n",
       "Swedish        1\n",
       "Yoruba         1\n",
       "Thai           1\n",
       "Name: Language, dtype: int64"
      ]
     },
     "execution_count": 14,
     "metadata": {},
     "output_type": "execute_result"
    }
   ],
   "source": [
    "lang =data['Language'].value_counts()\n",
    "lang\n",
    "#From the list,English is the most spoken language in movies that premiered in the year 2022"
   ]
  },
  {
   "cell_type": "code",
   "execution_count": 15,
   "id": "3f4d69e1",
   "metadata": {},
   "outputs": [
    {
     "data": {
      "image/png": "[encoded data removed]",
      "text/plain": [
       "<Figure size 2000x570 with 1 Axes>"
      ]
     },
     "metadata": {},
     "output_type": "display_data"
    }
   ],
   "source": [
    "#plotting a graph to display the count of the distinct languages\n",
    "plt.figure(figsize= [20,5.7])\n",
    "plt.bar(lang.index, lang, color= 'darkgreen')\n",
    "plt.xlabel('Distinct Languages')\n",
    "plt.ylabel('Count of Languages')\n",
    "plt.title('Count Of Distinct Languages')\n",
    "\n",
    "plt.show()"
   ]
  },
  {
   "cell_type": "code",
   "execution_count": 20,
   "id": "2e11315c",
   "metadata": {},
   "outputs": [
    {
     "data": {
      "text/html": [
       "<div>\n",
       "<style scoped>\n",
       "    .dataframe tbody tr th:only-of-type {\n",
       "        vertical-align: middle;\n",
       "    }\n",
       "\n",
       "    .dataframe tbody tr th {\n",
       "        vertical-align: top;\n",
       "    }\n",
       "\n",
       "    .dataframe thead th {\n",
       "        text-align: right;\n",
       "    }\n",
       "</style>\n",
       "<table border=\"1\" class=\"dataframe\">\n",
       "  <thead>\n",
       "    <tr style=\"text-align: right;\">\n",
       "      <th></th>\n",
       "      <th>Title</th>\n",
       "      <th>Genre</th>\n",
       "      <th>Premiere</th>\n",
       "      <th>Runtime</th>\n",
       "      <th>Language</th>\n",
       "      <th>Runtime(mins)</th>\n",
       "      <th>Premiere Month</th>\n",
       "    </tr>\n",
       "  </thead>\n",
       "  <tbody>\n",
       "    <tr>\n",
       "      <th>0</th>\n",
       "      <td>Four to Dinner</td>\n",
       "      <td>Romantic comedy</td>\n",
       "      <td>2022-01-05</td>\n",
       "      <td>1 h 30 min</td>\n",
       "      <td>Italian</td>\n",
       "      <td>90</td>\n",
       "      <td>1</td>\n",
       "    </tr>\n",
       "    <tr>\n",
       "      <th>1</th>\n",
       "      <td>The Wasteland</td>\n",
       "      <td>Horror</td>\n",
       "      <td>2022-01-06</td>\n",
       "      <td>1 h 32 min</td>\n",
       "      <td>Spanish</td>\n",
       "      <td>92</td>\n",
       "      <td>1</td>\n",
       "    </tr>\n",
       "    <tr>\n",
       "      <th>2</th>\n",
       "      <td>How I Fell in Love with a Gangster</td>\n",
       "      <td>Drama</td>\n",
       "      <td>2022-01-12</td>\n",
       "      <td>2 h 59 min</td>\n",
       "      <td>Polish</td>\n",
       "      <td>179</td>\n",
       "      <td>1</td>\n",
       "    </tr>\n",
       "    <tr>\n",
       "      <th>3</th>\n",
       "      <td>Brazen</td>\n",
       "      <td>Romantic thriller</td>\n",
       "      <td>2022-01-13</td>\n",
       "      <td>1 h 36 min</td>\n",
       "      <td>English</td>\n",
       "      <td>96</td>\n",
       "      <td>1</td>\n",
       "    </tr>\n",
       "    <tr>\n",
       "      <th>4</th>\n",
       "      <td>Photocopier</td>\n",
       "      <td>Coming-of-age drama</td>\n",
       "      <td>2022-01-13</td>\n",
       "      <td>2 h 10 min</td>\n",
       "      <td>Indonesian</td>\n",
       "      <td>130</td>\n",
       "      <td>1</td>\n",
       "    </tr>\n",
       "  </tbody>\n",
       "</table>\n",
       "</div>"
      ],
      "text/plain": [
       "                                Title                Genre   Premiere  \\\n",
       "0                      Four to Dinner      Romantic comedy 2022-01-05   \n",
       "1                       The Wasteland               Horror 2022-01-06   \n",
       "2  How I Fell in Love with a Gangster                Drama 2022-01-12   \n",
       "3                              Brazen    Romantic thriller 2022-01-13   \n",
       "4                         Photocopier  Coming-of-age drama 2022-01-13   \n",
       "\n",
       "      Runtime    Language  Runtime(mins)  Premiere Month  \n",
       "0  1 h 30 min     Italian             90               1  \n",
       "1  1 h 32 min     Spanish             92               1  \n",
       "2  2 h 59 min      Polish            179               1  \n",
       "3  1 h 36 min     English             96               1  \n",
       "4  2 h 10 min  Indonesian            130               1  "
      ]
     },
     "execution_count": 20,
     "metadata": {},
     "output_type": "execute_result"
    }
   ],
   "source": [
    "data['Premiere Month'] = data['Premiere'].dt.month\n",
    "data.head()"
   ]
  },
  {
   "cell_type": "markdown",
   "id": "774b64da",
   "metadata": {},
   "source": [
    "## Relationship between premiere and runtime\n",
    "#### There is an increase in both variable across the chart presenting a positive linear increase. Also, though there is a noticable presence of few outliers, the direction follows the trend from the bottom-left to the top-right . All this shows that there is somewhat a linear relationship between the Premiere and Runtime of movies over time. "
   ]
  },
  {
   "cell_type": "code",
   "execution_count": 51,
   "id": "8c17591b",
   "metadata": {},
   "outputs": [
    {
     "data": {
      "image/png": "[encoded data removed]",
      "text/plain": [
       "<Figure size 1000x570 with 1 Axes>"
      ]
     },
     "metadata": {},
     "output_type": "display_data"
    }
   ],
   "source": [
    "#viewing the relationship between premiere and runtime\n",
    "plt.figure(figsize=[10,5.7])\n",
    "plt.scatter(data['Premiere Month'], data['Runtime(mins)'], color='orange')\n",
    "\n",
    "plt.xlabel('Premiere Date in Months')\n",
    "plt.ylabel('Runtime in Mins')\n",
    "plt.title('Relationship Between the Premiere and Runtime')\n",
    "\n",
    "\n",
    "plt.show()"
   ]
  },
  {
   "cell_type": "code",
   "execution_count": 43,
   "id": "68bddc4b",
   "metadata": {
    "scrolled": false
   },
   "outputs": [
    {
     "data": {
      "text/html": [
       "<div>\n",
       "<style scoped>\n",
       "    .dataframe tbody tr th:only-of-type {\n",
       "        vertical-align: middle;\n",
       "    }\n",
       "\n",
       "    .dataframe tbody tr th {\n",
       "        vertical-align: top;\n",
       "    }\n",
       "\n",
       "    .dataframe thead th {\n",
       "        text-align: right;\n",
       "    }\n",
       "</style>\n",
       "<table border=\"1\" class=\"dataframe\">\n",
       "  <thead>\n",
       "    <tr style=\"text-align: right;\">\n",
       "      <th></th>\n",
       "      <th>Title</th>\n",
       "      <th>Genre</th>\n",
       "      <th>Premiere</th>\n",
       "      <th>Runtime</th>\n",
       "      <th>Language</th>\n",
       "      <th>Runtime(mins)</th>\n",
       "      <th>Premiere Month</th>\n",
       "    </tr>\n",
       "  </thead>\n",
       "  <tbody>\n",
       "    <tr>\n",
       "      <th>2</th>\n",
       "      <td>How I Fell in Love with a Gangster</td>\n",
       "      <td>Drama</td>\n",
       "      <td>2022-01-12</td>\n",
       "      <td>2 h 59 min</td>\n",
       "      <td>Polish</td>\n",
       "      <td>179</td>\n",
       "      <td>1</td>\n",
       "    </tr>\n",
       "  </tbody>\n",
       "</table>\n",
       "</div>"
      ],
      "text/plain": [
       "                                Title  Genre   Premiere     Runtime Language  \\\n",
       "2  How I Fell in Love with a Gangster  Drama 2022-01-12  2 h 59 min   Polish   \n",
       "\n",
       "   Runtime(mins)  Premiere Month  \n",
       "2            179               1  "
      ]
     },
     "execution_count": 43,
     "metadata": {},
     "output_type": "execute_result"
    }
   ],
   "source": [
    "#Identifying the outlier\n",
    "data[data['Runtime(mins)']==data['Runtime(mins)'].max()]"
   ]
  },
  {
   "cell_type": "code",
   "execution_count": 54,
   "id": "0c5e6c6b",
   "metadata": {},
   "outputs": [
    {
     "data": {
      "text/html": [
       "<div>\n",
       "<style scoped>\n",
       "    .dataframe tbody tr th:only-of-type {\n",
       "        vertical-align: middle;\n",
       "    }\n",
       "\n",
       "    .dataframe tbody tr th {\n",
       "        vertical-align: top;\n",
       "    }\n",
       "\n",
       "    .dataframe thead th {\n",
       "        text-align: right;\n",
       "    }\n",
       "</style>\n",
       "<table border=\"1\" class=\"dataframe\">\n",
       "  <thead>\n",
       "    <tr style=\"text-align: right;\">\n",
       "      <th></th>\n",
       "      <th>Title</th>\n",
       "      <th>Genre</th>\n",
       "      <th>Premiere</th>\n",
       "      <th>Runtime</th>\n",
       "      <th>Language</th>\n",
       "      <th>Runtime(mins)</th>\n",
       "      <th>Premiere Month</th>\n",
       "    </tr>\n",
       "  </thead>\n",
       "  <tbody>\n",
       "    <tr>\n",
       "      <th>2</th>\n",
       "      <td>How I Fell in Love with a Gangster</td>\n",
       "      <td>Drama</td>\n",
       "      <td>2022-01-12</td>\n",
       "      <td>2 h 59 min</td>\n",
       "      <td>Polish</td>\n",
       "      <td>179</td>\n",
       "      <td>1</td>\n",
       "    </tr>\n",
       "    <tr>\n",
       "      <th>114</th>\n",
       "      <td>Blonde</td>\n",
       "      <td>Biographical drama</td>\n",
       "      <td>2022-09-28</td>\n",
       "      <td>2 h 47 min</td>\n",
       "      <td>English</td>\n",
       "      <td>167</td>\n",
       "      <td>9</td>\n",
       "    </tr>\n",
       "    <tr>\n",
       "      <th>76</th>\n",
       "      <td>Love Goals</td>\n",
       "      <td>Comedy</td>\n",
       "      <td>2022-07-15</td>\n",
       "      <td>2 h 47 min</td>\n",
       "      <td>Hindi</td>\n",
       "      <td>167</td>\n",
       "      <td>7</td>\n",
       "    </tr>\n",
       "    <tr>\n",
       "      <th>166</th>\n",
       "      <td>Bardo, False Chronicle of a Handful of Truths</td>\n",
       "      <td>Comedy</td>\n",
       "      <td>2022-12-16</td>\n",
       "      <td>2 h 39 min</td>\n",
       "      <td>Spanish</td>\n",
       "      <td>159</td>\n",
       "      <td>12</td>\n",
       "    </tr>\n",
       "    <tr>\n",
       "      <th>134</th>\n",
       "      <td>Cici</td>\n",
       "      <td>Drama</td>\n",
       "      <td>2022-10-28</td>\n",
       "      <td>2 h 31 min</td>\n",
       "      <td>Turkish</td>\n",
       "      <td>151</td>\n",
       "      <td>10</td>\n",
       "    </tr>\n",
       "  </tbody>\n",
       "</table>\n",
       "</div>"
      ],
      "text/plain": [
       "                                             Title               Genre  \\\n",
       "2               How I Fell in Love with a Gangster               Drama   \n",
       "114                                         Blonde  Biographical drama   \n",
       "76                                      Love Goals              Comedy   \n",
       "166  Bardo, False Chronicle of a Handful of Truths              Comedy   \n",
       "134                                           Cici               Drama   \n",
       "\n",
       "      Premiere     Runtime Language  Runtime(mins)  Premiere Month  \n",
       "2   2022-01-12  2 h 59 min   Polish            179               1  \n",
       "114 2022-09-28  2 h 47 min  English            167               9  \n",
       "76  2022-07-15  2 h 47 min    Hindi            167               7  \n",
       "166 2022-12-16  2 h 39 min  Spanish            159              12  \n",
       "134 2022-10-28  2 h 31 min  Turkish            151              10  "
      ]
     },
     "execution_count": 54,
     "metadata": {},
     "output_type": "execute_result"
    }
   ],
   "source": [
    "data.sort_values(by= 'Runtime(mins)', ascending=False).head()\n",
    "#confirming the position of the other 2 outlier apart from the main one"
   ]
  },
  {
   "cell_type": "code",
   "execution_count": null,
   "id": "af491e8c",
   "metadata": {},
   "outputs": [],
   "source": []
  }
 ],
 "metadata": {
  "kernelspec": {
   "display_name": "Python 3 (ipykernel)",
   "language": "python",
   "name": "python3"
  },
  "language_info": {
   "codemirror_mode": {
    "name": "ipython",
    "version": 3
   },
   "file_extension": ".py",
   "mimetype": "text/x-python",
   "name": "python",
   "nbconvert_exporter": "python",
   "pygments_lexer": "ipython3",
   "version": "3.11.4"
  }
 },
 "nbformat": 4,
 "nbformat_minor": 5
}
