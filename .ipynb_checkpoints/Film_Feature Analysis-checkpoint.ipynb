{
 "cells": [
  {
   "cell_type": "markdown",
   "id": "3bdf2b33",
   "metadata": {},
   "source": [
    "# Import the necessary libraries"
   ]
  },
  {
   "cell_type": "code",
   "execution_count": 3,
   "id": "907a0157",
   "metadata": {},
   "outputs": [
    {
     "data": {
      "text/html": [
       "<div>\n",
       "<style scoped>\n",
       "    .dataframe tbody tr th:only-of-type {\n",
       "        vertical-align: middle;\n",
       "    }\n",
       "\n",
       "    .dataframe tbody tr th {\n",
       "        vertical-align: top;\n",
       "    }\n",
       "\n",
       "    .dataframe thead th {\n",
       "        text-align: right;\n",
       "    }\n",
       "</style>\n",
       "<table border=\"1\" class=\"dataframe\">\n",
       "  <thead>\n",
       "    <tr style=\"text-align: right;\">\n",
       "      <th></th>\n",
       "      <th>Title</th>\n",
       "      <th>Genre</th>\n",
       "      <th>Premiere</th>\n",
       "      <th>Runtime</th>\n",
       "      <th>Language</th>\n",
       "    </tr>\n",
       "  </thead>\n",
       "  <tbody>\n",
       "    <tr>\n",
       "      <th>0</th>\n",
       "      <td>Four to Dinner</td>\n",
       "      <td>Romantic comedy</td>\n",
       "      <td>January 5, 2022</td>\n",
       "      <td>1 h 30 min</td>\n",
       "      <td>Italian</td>\n",
       "    </tr>\n",
       "    <tr>\n",
       "      <th>1</th>\n",
       "      <td>The Wasteland</td>\n",
       "      <td>Horror</td>\n",
       "      <td>January 6, 2022</td>\n",
       "      <td>1 h 32 min</td>\n",
       "      <td>Spanish</td>\n",
       "    </tr>\n",
       "    <tr>\n",
       "      <th>2</th>\n",
       "      <td>How I Fell in Love with a Gangster</td>\n",
       "      <td>Drama</td>\n",
       "      <td>January 12, 2022</td>\n",
       "      <td>2 h 59 min</td>\n",
       "      <td>Polish</td>\n",
       "    </tr>\n",
       "    <tr>\n",
       "      <th>3</th>\n",
       "      <td>Brazen</td>\n",
       "      <td>Romantic thriller</td>\n",
       "      <td>January 13, 2022</td>\n",
       "      <td>1 h 36 min</td>\n",
       "      <td>English</td>\n",
       "    </tr>\n",
       "    <tr>\n",
       "      <th>4</th>\n",
       "      <td>Photocopier</td>\n",
       "      <td>Coming-of-age drama</td>\n",
       "      <td>January 13, 2022</td>\n",
       "      <td>2 h 10 min</td>\n",
       "      <td>Indonesian</td>\n",
       "    </tr>\n",
       "  </tbody>\n",
       "</table>\n",
       "</div>"
      ],
      "text/plain": [
       "                                Title                Genre          Premiere  \\\n",
       "0                      Four to Dinner      Romantic comedy   January 5, 2022   \n",
       "1                       The Wasteland               Horror   January 6, 2022   \n",
       "2  How I Fell in Love with a Gangster                Drama  January 12, 2022   \n",
       "3                              Brazen    Romantic thriller  January 13, 2022   \n",
       "4                         Photocopier  Coming-of-age drama  January 13, 2022   \n",
       "\n",
       "      Runtime    Language  \n",
       "0  1 h 30 min     Italian  \n",
       "1  1 h 32 min     Spanish  \n",
       "2  2 h 59 min      Polish  \n",
       "3  1 h 36 min     English  \n",
       "4  2 h 10 min  Indonesian  "
      ]
     },
     "execution_count": 3,
     "metadata": {},
     "output_type": "execute_result"
    }
   ],
   "source": [
    "#Importing the necessary librabries\n",
    "import numpy as np\n",
    "import pandas as pd\n",
    "import matplotlib.pyplot as plt\n",
    "import warnings\n",
    "warnings.filterwarnings(\"ignore\")\n",
    "\n",
    "#Load the dataset\n",
    "data = pd.read_csv('Feature films.csv')\n",
    "data.head()"
   ]
  },
  {
   "cell_type": "code",
   "execution_count": 5,
   "id": "42d7762b",
   "metadata": {},
   "outputs": [
    {
     "data": {
      "text/plain": [
       "Title       0\n",
       "Genre       0\n",
       "Premiere    0\n",
       "Runtime     0\n",
       "Language    0\n",
       "dtype: int64"
      ]
     },
     "execution_count": 5,
     "metadata": {},
     "output_type": "execute_result"
    }
   ],
   "source": [
    "data.isnull().sum()"
   ]
  },
  {
   "cell_type": "code",
   "execution_count": 8,
   "id": "139356a2",
   "metadata": {},
   "outputs": [
    {
     "data": {
      "text/html": [
       "<div>\n",
       "<style scoped>\n",
       "    .dataframe tbody tr th:only-of-type {\n",
       "        vertical-align: middle;\n",
       "    }\n",
       "\n",
       "    .dataframe tbody tr th {\n",
       "        vertical-align: top;\n",
       "    }\n",
       "\n",
       "    .dataframe thead th {\n",
       "        text-align: right;\n",
       "    }\n",
       "</style>\n",
       "<table border=\"1\" class=\"dataframe\">\n",
       "  <thead>\n",
       "    <tr style=\"text-align: right;\">\n",
       "      <th></th>\n",
       "      <th>Title</th>\n",
       "      <th>Genre</th>\n",
       "      <th>Premiere</th>\n",
       "      <th>Runtime</th>\n",
       "      <th>Language</th>\n",
       "    </tr>\n",
       "  </thead>\n",
       "  <tbody>\n",
       "  </tbody>\n",
       "</table>\n",
       "</div>"
      ],
      "text/plain": [
       "Empty DataFrame\n",
       "Columns: [Title, Genre, Premiere, Runtime, Language]\n",
       "Index: []"
      ]
     },
     "execution_count": 8,
     "metadata": {},
     "output_type": "execute_result"
    }
   ],
   "source": [
    "#Checking for duplicates\n",
    "data[data.duplicated()]\n",
    "\n",
    "#there is none"
   ]
  },
  {
   "cell_type": "code",
   "execution_count": 12,
   "id": "d4c4ca51",
   "metadata": {},
   "outputs": [
    {
     "name": "stdout",
     "output_type": "stream",
     "text": [
      "<class 'pandas.core.frame.DataFrame'>\n",
      "RangeIndex: 172 entries, 0 to 171\n",
      "Data columns (total 5 columns):\n",
      " #   Column    Non-Null Count  Dtype         \n",
      "---  ------    --------------  -----         \n",
      " 0   Title     172 non-null    object        \n",
      " 1   Genre     172 non-null    object        \n",
      " 2   Premiere  172 non-null    datetime64[ns]\n",
      " 3   Runtime   172 non-null    object        \n",
      " 4   Language  172 non-null    object        \n",
      "dtypes: datetime64[ns](1), object(4)\n",
      "memory usage: 6.8+ KB\n"
     ]
    }
   ],
   "source": [
    "data.info()"
   ]
  },
  {
   "cell_type": "code",
   "execution_count": 11,
   "id": "9a8c595a",
   "metadata": {},
   "outputs": [],
   "source": [
    "data['Premiere'] = pd.to_datetime(data['Premiere'])"
   ]
  },
  {
   "cell_type": "code",
   "execution_count": 13,
   "id": "1db43688",
   "metadata": {},
   "outputs": [
    {
     "data": {
      "text/html": [
       "<div>\n",
       "<style scoped>\n",
       "    .dataframe tbody tr th:only-of-type {\n",
       "        vertical-align: middle;\n",
       "    }\n",
       "\n",
       "    .dataframe tbody tr th {\n",
       "        vertical-align: top;\n",
       "    }\n",
       "\n",
       "    .dataframe thead th {\n",
       "        text-align: right;\n",
       "    }\n",
       "</style>\n",
       "<table border=\"1\" class=\"dataframe\">\n",
       "  <thead>\n",
       "    <tr style=\"text-align: right;\">\n",
       "      <th></th>\n",
       "      <th>Title</th>\n",
       "      <th>Genre</th>\n",
       "      <th>Premiere</th>\n",
       "      <th>Runtime</th>\n",
       "      <th>Language</th>\n",
       "    </tr>\n",
       "  </thead>\n",
       "  <tbody>\n",
       "    <tr>\n",
       "      <th>0</th>\n",
       "      <td>Four to Dinner</td>\n",
       "      <td>Romantic comedy</td>\n",
       "      <td>2022-01-05</td>\n",
       "      <td>1 h 30 min</td>\n",
       "      <td>Italian</td>\n",
       "    </tr>\n",
       "    <tr>\n",
       "      <th>1</th>\n",
       "      <td>The Wasteland</td>\n",
       "      <td>Horror</td>\n",
       "      <td>2022-01-06</td>\n",
       "      <td>1 h 32 min</td>\n",
       "      <td>Spanish</td>\n",
       "    </tr>\n",
       "    <tr>\n",
       "      <th>2</th>\n",
       "      <td>How I Fell in Love with a Gangster</td>\n",
       "      <td>Drama</td>\n",
       "      <td>2022-01-12</td>\n",
       "      <td>2 h 59 min</td>\n",
       "      <td>Polish</td>\n",
       "    </tr>\n",
       "    <tr>\n",
       "      <th>3</th>\n",
       "      <td>Brazen</td>\n",
       "      <td>Romantic thriller</td>\n",
       "      <td>2022-01-13</td>\n",
       "      <td>1 h 36 min</td>\n",
       "      <td>English</td>\n",
       "    </tr>\n",
       "    <tr>\n",
       "      <th>4</th>\n",
       "      <td>Photocopier</td>\n",
       "      <td>Coming-of-age drama</td>\n",
       "      <td>2022-01-13</td>\n",
       "      <td>2 h 10 min</td>\n",
       "      <td>Indonesian</td>\n",
       "    </tr>\n",
       "  </tbody>\n",
       "</table>\n",
       "</div>"
      ],
      "text/plain": [
       "                                Title                Genre   Premiere  \\\n",
       "0                      Four to Dinner      Romantic comedy 2022-01-05   \n",
       "1                       The Wasteland               Horror 2022-01-06   \n",
       "2  How I Fell in Love with a Gangster                Drama 2022-01-12   \n",
       "3                              Brazen    Romantic thriller 2022-01-13   \n",
       "4                         Photocopier  Coming-of-age drama 2022-01-13   \n",
       "\n",
       "      Runtime    Language  \n",
       "0  1 h 30 min     Italian  \n",
       "1  1 h 32 min     Spanish  \n",
       "2  2 h 59 min      Polish  \n",
       "3  1 h 36 min     English  \n",
       "4  2 h 10 min  Indonesian  "
      ]
     },
     "execution_count": 13,
     "metadata": {},
     "output_type": "execute_result"
    }
   ],
   "source": [
    "data.head()"
   ]
  },
  {
   "cell_type": "code",
   "execution_count": null,
   "id": "99505f1a",
   "metadata": {},
   "outputs": [],
   "source": []
  }
 ],
 "metadata": {
  "kernelspec": {
   "display_name": "Python 3 (ipykernel)",
   "language": "python",
   "name": "python3"
  },
  "language_info": {
   "codemirror_mode": {
    "name": "ipython",
    "version": 3
   },
   "file_extension": ".py",
   "mimetype": "text/x-python",
   "name": "python",
   "nbconvert_exporter": "python",
   "pygments_lexer": "ipython3",
   "version": "3.11.4"
  }
 },
 "nbformat": 4,
 "nbformat_minor": 5
}
